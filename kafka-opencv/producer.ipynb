{
 "cells": [
  {
   "cell_type": "code",
   "execution_count": 2,
   "metadata": {},
   "outputs": [],
   "source": [
    "import time\n",
    "import sys \n",
    "import cv2"
   ]
  },
  {
   "cell_type": "code",
   "execution_count": 3,
   "metadata": {},
   "outputs": [],
   "source": [
    "from kafka import KafkaProducer\n",
    "from kafka.errors import KafkaError "
   ]
  },
  {
   "cell_type": "code",
   "execution_count": 4,
   "metadata": {},
   "outputs": [],
   "source": [
    "producer = KafkaProducer(bootstrap_servers='localhost:9092')"
   ]
  },
  {
   "cell_type": "code",
   "execution_count": 5,
   "metadata": {},
   "outputs": [],
   "source": [
    "topic ='my-topic'"
   ]
  },
  {
   "cell_type": "code",
   "execution_count": null,
   "metadata": {},
   "outputs": [
    {
     "name": "stdout",
     "output_type": "stream",
     "text": [
      "start\n",
      "................................................................................................................................................................................................................................................................................................................................................................................"
     ]
    }
   ],
   "source": [
    "def emit_video(path_to_video):\n",
    "    print('start')\n",
    "    video = cv2.VideoCapture(path_to_video)\n",
    "    \n",
    "    while video.isOpened():\n",
    "        success, frame = video.read()\n",
    "        if not success:\n",
    "            break\n",
    "        # png might be too large to emit \n",
    "        data = cv2.imencode('.jpeg',frame)[1].tobytes()\n",
    "        \n",
    "        future = producer.send(topic,data)\n",
    "        try:\n",
    "            future.get(timeout=10)\n",
    "        except KafkaError as e:\n",
    "            print(e)\n",
    "            break\n",
    "        print('.', end='', flush=True)\n",
    "\n",
    "emit_video(0)\n",
    "# zero is for open webcam or usb webcam \n",
    "# can play a video just add video file in emit_video function \n",
    "# rtsp camera stream add rtsp feed in emit_video function \n",
    "        "
   ]
  },
  {
   "cell_type": "code",
   "execution_count": 1,
   "metadata": {},
   "outputs": [],
   "source": [
    "# to kill camera\n",
    "#lsof | grep video0\n"
   ]
  },
  {
   "cell_type": "code",
   "execution_count": null,
   "metadata": {},
   "outputs": [],
   "source": []
  }
 ],
 "metadata": {
  "kernelspec": {
   "display_name": "Python 3",
   "language": "python",
   "name": "python3"
  },
  "language_info": {
   "codemirror_mode": {
    "name": "ipython",
    "version": 3
   },
   "file_extension": ".py",
   "mimetype": "text/x-python",
   "name": "python",
   "nbconvert_exporter": "python",
   "pygments_lexer": "ipython3",
   "version": "3.7.6"
  }
 },
 "nbformat": 4,
 "nbformat_minor": 4
}
