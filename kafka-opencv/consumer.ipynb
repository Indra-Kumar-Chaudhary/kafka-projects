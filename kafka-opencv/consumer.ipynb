{
 "cells": [
  {
   "cell_type": "code",
   "execution_count": 3,
   "metadata": {},
   "outputs": [],
   "source": [
    "from flask import Flask, Response\n",
    "from kafka import KafkaConsumer"
   ]
  },
  {
   "cell_type": "code",
   "execution_count": 4,
   "metadata": {},
   "outputs": [],
   "source": [
    "consumer = KafkaConsumer('my-topic',bootstrap_servers='localhost:9092')"
   ]
  },
  {
   "cell_type": "code",
   "execution_count": 9,
   "metadata": {},
   "outputs": [
    {
     "name": "stdout",
     "output_type": "stream",
     "text": [
      " * Serving Flask app \"__main__\" (lazy loading)\n",
      " * Environment: production\n",
      "   WARNING: This is a development server. Do not use it in a production deployment.\n",
      "   Use a production WSGI server instead.\n",
      " * Debug mode: off\n"
     ]
    },
    {
     "name": "stderr",
     "output_type": "stream",
     "text": [
      "INFO:werkzeug: * Running on http://127.0.0.1:5000/ (Press CTRL+C to quit)\n",
      "INFO:werkzeug:127.0.0.1 - - [20/Feb/2021 09:08:17] \"\u001b[35m\u001b[1mGET / HTTP/1.1\u001b[0m\" 500 -\n",
      "ERROR:werkzeug:Error on request:\n",
      "Traceback (most recent call last):\n",
      "  File \"/home/indra/anaconda3/lib/python3.7/site-packages/werkzeug/serving.py\", line 323, in run_wsgi\n",
      "    execute(self.server.app)\n",
      "  File \"/home/indra/anaconda3/lib/python3.7/site-packages/werkzeug/serving.py\", line 314, in execute\n",
      "    for data in application_iter:\n",
      "  File \"/home/indra/anaconda3/lib/python3.7/site-packages/werkzeug/wsgi.py\", line 506, in __next__\n",
      "    return self._next()\n",
      "  File \"/home/indra/anaconda3/lib/python3.7/site-packages/werkzeug/wrappers/base_response.py\", line 45, in _iter_encoded\n",
      "    for item in iterable:\n",
      "  File \"<ipython-input-9-7cd12d7ac7d7>\", line 4, in kafkastream\n",
      "    \n",
      "  File \"/home/indra/anaconda3/lib/python3.7/site-packages/kafka/consumer/group.py\", line 1193, in __next__\n",
      "    return self.next_v2()\n",
      "  File \"/home/indra/anaconda3/lib/python3.7/site-packages/kafka/consumer/group.py\", line 1201, in next_v2\n",
      "    return next(self._iterator)\n",
      "ValueError: generator already executing\n",
      "INFO:werkzeug:127.0.0.1 - - [20/Feb/2021 09:08:17] \"\u001b[33mGET /favicon.ico HTTP/1.1\u001b[0m\" 404 -\n",
      "INFO:werkzeug:127.0.0.1 - - [20/Feb/2021 09:08:23] \"\u001b[35m\u001b[1mGET / HTTP/1.1\u001b[0m\" 500 -\n",
      "ERROR:werkzeug:Error on request:\n",
      "Traceback (most recent call last):\n",
      "  File \"/home/indra/anaconda3/lib/python3.7/site-packages/werkzeug/serving.py\", line 323, in run_wsgi\n",
      "    execute(self.server.app)\n",
      "  File \"/home/indra/anaconda3/lib/python3.7/site-packages/werkzeug/serving.py\", line 314, in execute\n",
      "    for data in application_iter:\n",
      "  File \"/home/indra/anaconda3/lib/python3.7/site-packages/werkzeug/wsgi.py\", line 506, in __next__\n",
      "    return self._next()\n",
      "  File \"/home/indra/anaconda3/lib/python3.7/site-packages/werkzeug/wrappers/base_response.py\", line 45, in _iter_encoded\n",
      "    for item in iterable:\n",
      "  File \"<ipython-input-9-7cd12d7ac7d7>\", line 4, in kafkastream\n",
      "    \n",
      "  File \"/home/indra/anaconda3/lib/python3.7/site-packages/kafka/consumer/group.py\", line 1193, in __next__\n",
      "    return self.next_v2()\n",
      "  File \"/home/indra/anaconda3/lib/python3.7/site-packages/kafka/consumer/group.py\", line 1201, in next_v2\n",
      "    return next(self._iterator)\n",
      "ValueError: generator already executing\n"
     ]
    }
   ],
   "source": [
    "app = Flask(__name__)\n",
    "\n",
    "def kafkastream():\n",
    "    for message in consumer:\n",
    "        yield(b'--frame\\r\\n'\n",
    "             b'Content-Type: image/jpeg/\\r\\n\\r\\n' + message.value + b'\\r\\n\\r\\n')\n",
    "\n",
    "@app.route('/')\n",
    "def index():\n",
    "    return Response(kafkastream(),\n",
    "                   mimetype='multipart/x-mixed-replace; boundary=frame')\n",
    "\n",
    "if __name__=='__main__':\n",
    "    app.run()"
   ]
  },
  {
   "cell_type": "code",
   "execution_count": null,
   "metadata": {},
   "outputs": [],
   "source": []
  },
  {
   "cell_type": "code",
   "execution_count": null,
   "metadata": {},
   "outputs": [],
   "source": []
  }
 ],
 "metadata": {
  "kernelspec": {
   "display_name": "Python 3",
   "language": "python",
   "name": "python3"
  },
  "language_info": {
   "codemirror_mode": {
    "name": "ipython",
    "version": 3
   },
   "file_extension": ".py",
   "mimetype": "text/x-python",
   "name": "python",
   "nbconvert_exporter": "python",
   "pygments_lexer": "ipython3",
   "version": "3.7.6"
  }
 },
 "nbformat": 4,
 "nbformat_minor": 4
}
